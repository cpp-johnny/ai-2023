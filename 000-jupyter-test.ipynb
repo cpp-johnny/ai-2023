{
 "cells": [
  {
   "cell_type": "code",
   "execution_count": 1,
   "metadata": {},
   "outputs": [
    {
     "name": "stdout",
     "output_type": "stream",
     "text": [
      "Hello Jupyter\n"
     ]
    }
   ],
   "source": [
    "print(\"Hello Jupyter\")"
   ]
  },
  {
   "cell_type": "markdown",
   "metadata": {},
   "source": [
    "# Jupyter\n",
    "## 25 November 2023\n",
    "---\n",
    "Test 123 **Python**\n",
    "> Saytzeff's Rule: In elimination reactions, the major alkene product is the most substituted alkene (probability: 3<sup>o</sup> > 2<sup>o</sup> > 1<sup>o</sup>). This can be explained by the electron-donating effect of alkyl groups, which forms a more stable carbocation, thereby increasing yield."
   ]
  }
 ],
 "metadata": {
  "kernelspec": {
   "display_name": "Python 3",
   "language": "python",
   "name": "python3"
  },
  "language_info": {
   "codemirror_mode": {
    "name": "ipython",
    "version": 3
   },
   "file_extension": ".py",
   "mimetype": "text/x-python",
   "name": "python",
   "nbconvert_exporter": "python",
   "pygments_lexer": "ipython3",
   "version": "3.11.6"
  },
  "orig_nbformat": 4
 },
 "nbformat": 4,
 "nbformat_minor": 2
}
